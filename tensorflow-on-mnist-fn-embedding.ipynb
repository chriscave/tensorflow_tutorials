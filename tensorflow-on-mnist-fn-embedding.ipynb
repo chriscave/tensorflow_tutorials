{
 "cells": [
  {
   "cell_type": "code",
   "execution_count": 1,
   "metadata": {},
   "outputs": [
    {
     "name": "stderr",
     "output_type": "stream",
     "text": [
      "/home/chris/anaconda3/lib/python3.6/site-packages/h5py/__init__.py:34: FutureWarning: Conversion of the second argument of issubdtype from `float` to `np.floating` is deprecated. In future, it will be treated as `np.float64 == np.dtype(float).type`.\n",
      "  from ._conv import register_converters as _register_converters\n"
     ]
    }
   ],
   "source": [
    "import numpy as np\n",
    "import tensorflow as tf\n",
    "import pandas as pd\n",
    "import matplotlib\n",
    "import matplotlib.pyplot as plt\n",
    "from mpl_toolkits.mplot3d import Axes3D\n",
    "from sklearn.preprocessing import StandardScaler\n",
    "from sklearn.datasets import fetch_mldata\n",
    "from functools import reduce\n",
    "mnist = fetch_mldata('MNIST original')\n"
   ]
  },
  {
   "cell_type": "code",
   "execution_count": 2,
   "metadata": {},
   "outputs": [],
   "source": [
    "X,y = mnist[\"data\"], mnist[\"target\"]\n",
    "#shuffle_index = np.random.permutation(60000)\n",
    "\n",
    "X_train, X_test, y_train, y_test = X[:60000], X[60000:], y[:60000], y[60000:]\n"
   ]
  },
  {
   "cell_type": "code",
   "execution_count": 13,
   "metadata": {},
   "outputs": [],
   "source": [
    "def pix_split(rank):\n",
    "    Y = np.zeros(rank+1)\n",
    "    Y[rank] = 256\n",
    "    for r in np.arange(rank):\n",
    "        Y[r] = (255 // rank) * r\n",
    "    return Y\n",
    "\n",
    "def gen(rank):\n",
    "    Y = pix_split(rank)\n",
    "    A = np.array([[1,2],[0,1]])\n",
    "    gen = [A]\n",
    "    b = np.identity(2)\n",
    "    b_ = np.identity(2)\n",
    "    if rank == 2:\n",
    "        gen.append(np.array([[1,0],[2,1]]))\n",
    "    else:\n",
    "        for r in np.arange(rank - 1):\n",
    "            b = np.matmul(b,[[1,0],[2,1]])\n",
    "            b_ = np.matmul(b_,[[1,0],[-2,1]])\n",
    "            gen.append(np.matmul(np.matmul(b_,A),b))\n",
    "    return gen\n",
    "\n",
    "def sfe_rank(X,features,rank):\n",
    "    g = gen(rank)\n",
    "    ps = pix_split(rank)\n",
    "    n= X.shape\n",
    "#n = X_train.shape\n",
    "#features = 100\n",
    "    div = int(features / 4)\n",
    "    k= int(np.floor(n[1] / div))\n",
    "    l = k+1\n",
    "    a, b = np.array([[k,l],[1,1]]), np.array([n[1],div])\n",
    "    x,y = np.linalg.solve(a,b)\n",
    "    x,y = int(np.rint(x)), int(np.rint(y))\n",
    "    d = np.asarray([\n",
    "  np.asarray(        \n",
    "        np.append(\n",
    "            np.asarray([\n",
    "            reduce(\n",
    "                lambda w,u: np.matmul(w,u),np.asarray(\n",
    "                    [g[p] for z in X[j][k*i: k*(i+1)] for p in np.arange(rank + 1) if ps[p] <= z < ps[p+1] ]\n",
    "                    )                                           \n",
    "                    )\n",
    "            for i in np.arange(x)\n",
    "                        ]),\n",
    "        np.asarray([\n",
    "        reduce(\n",
    "            lambda w,u: np.matmul(w,u),np.asarray(\n",
    "                [g[p] for z in X[j][(x*k + l*i): (x*k + l * (i+1))]  for p in np.arange(rank + 1) if ps[p] <= z < ps[p+1] ]\n",
    "                                                )\n",
    "                )\n",
    "        for i in np.arange(y)\n",
    "        ])\n",
    "        )\n",
    "    )\n",
    "for j in np.arange(n[0])\n",
    "])\n",
    "    return d"
   ]
  },
  {
   "cell_type": "code",
   "execution_count": 4,
   "metadata": {},
   "outputs": [],
   "source": [
    "def sfe(X,features):\n",
    "    n= X.shape\n",
    "#n = X_train.shape\n",
    "#features = 100\n",
    "    div = int(features / 4)\n",
    "    k= int(np.floor(n[1] / div))\n",
    "    l = k+1\n",
    "    a, b = np.array([[k,l],[1,1]]), np.array([n[1],div])\n",
    "    x,y = np.linalg.solve(a,b)\n",
    "    x,y = int(np.rint(x)), int(np.rint(y))\n",
    "    d = np.asarray([\n",
    "  np.asarray(        \n",
    "        np.append(\n",
    "            np.asarray([\n",
    "            reduce(\n",
    "                lambda w,u: np.matmul(w,u),[\n",
    "                    [[1,2],[0,1]] if z <= 127 else [[1,0],[2,1]] for z in X[j][k*i: k*(i+1)] \n",
    "                                            ]\n",
    "                    )\n",
    "            for i in np.arange(x)\n",
    "                        ]),\n",
    "        np.asarray([\n",
    "        reduce(\n",
    "            lambda w,u: np.matmul(w,u),[\n",
    "                [[1,2],[0,1]] if z <= 127 else [[1,0],[2,1]] for z in X[j][(x*k + l*i): (x*k + l * (i+1))] \n",
    "                                        ]\n",
    "                )\n",
    "        for i in np.arange(y)\n",
    "        ])\n",
    "        )\n",
    "    )\n",
    "for j in np.arange(n[0])\n",
    "])\n",
    "    return d"
   ]
  },
  {
   "cell_type": "code",
   "execution_count": null,
   "metadata": {},
   "outputs": [],
   "source": [
    "def sfe3(X,features):\n",
    "    g = [np.array([[1,4],[0,1]]), np.array([[1,2],[2,5]]), np.array([[1,0],[4,1]])]\n",
    "    ps = pix_split(3)\n",
    "    n= X.shape\n",
    "#n = X_train.shape\n",
    "#features = 100\n",
    "    div = int(features / 4)\n",
    "    k= int(np.floor(n[1] / div))\n",
    "    l = k+1\n",
    "    a, b = np.array([[k,l],[1,1]]), np.array([n[1],div])\n",
    "    x,y = np.linalg.solve(a,b)\n",
    "    x,y = int(np.rint(x)), int(np.rint(y))\n",
    "    d = np.asarray([\n",
    "  np.asarray(        \n",
    "        np.append(\n",
    "            np.asarray([\n",
    "            reduce(\n",
    "                lambda w,u: np.matmul(w,u),np.asarray(\n",
    "                    [g[p] for z in X[j][k*i: k*(i+1)] for p in np.arange(3 + 1) if ps[p] <= z < ps[p+1] ]\n",
    "                    )                                           \n",
    "                    )\n",
    "            for i in np.arange(x)\n",
    "                        ]),\n",
    "        np.asarray([\n",
    "        reduce(\n",
    "            lambda w,u: np.matmul(w,u),np.asarray(\n",
    "                [g[p] for z in X[j][(x*k + l*i): (x*k + l * (i+1))]  for p in np.arange(3 + 1) if ps[p] <= z < ps[p+1] ]\n",
    "                                                )\n",
    "                )\n",
    "        for i in np.arange(y)\n",
    "        ])\n",
    "        )\n",
    "    )\n",
    "for j in np.arange(n[0])\n",
    "])\n",
    "    return d"
   ]
  },
  {
   "cell_type": "code",
   "execution_count": null,
   "metadata": {},
   "outputs": [],
   "source": [
    "features = 100 #needs to be divisible by 4\n",
    "rank = 2\n",
    "X_train_split_fe2 = sfe_rank(X_train,features)\n",
    "X_test_split_fe2 = sfe_rank(X_test,features)"
   ]
  },
  {
   "cell_type": "code",
   "execution_count": 16,
   "metadata": {},
   "outputs": [],
   "source": [
    "features = 100\n",
    "rank = 2\n",
    "test_wo_rank = sfe(X_train[0:1],features)\n",
    "test_w_rank = sfe_rank(X_train[0:1], features,rank)"
   ]
  },
  {
   "cell_type": "code",
   "execution_count": 19,
   "metadata": {},
   "outputs": [
    {
     "data": {
      "text/plain": [
       "(array([     1,     62,      0,      1,      1,     62,      0,      1,\n",
       "             1,     62,      0,      1,      1,     62,      0,      1,\n",
       "            49,   2360,      6,    289,    353,     44,   3538,    441,\n",
       "          3957,    884,  15922,   3557,   6781,  28170,    188,    781,\n",
       "         40961, 419278,   1360,  13921,   8761, 142322,    396,   6433,\n",
       "          9689, 195376,    686,  13833,   4069, 106466,    660,  17269,\n",
       "         17665,  38254,  71536, 154913,  10645, 109084,    586,   6005,\n",
       "          7129, 115828,    586,   9521, 195409,  48192,  46910,  11569,\n",
       "         11129,  90868,  22652, 184953,   7697, 139814,    346,   6285,\n",
       "          5325, 149624,    376,  10565,   8845,   4362,   1462,    721,\n",
       "           337,     42,   4726,    589,      1,     62,      2,    125,\n",
       "             1,     64,      0,      1,      1,     64,      0,      1,\n",
       "             1,     64,      0,      1]),\n",
       " array([     1,     62,      0,      1,      1,     62,      0,      1,\n",
       "             1,     62,      0,      1,      1,     62,      0,      1,\n",
       "            49,   2360,      6,    289,    353,     44,   3538,    441,\n",
       "          3957,    884,  15922,   3557,   6781,  28170,    188,    781,\n",
       "         40961, 419278,   1360,  13921,   8761, 142322,    396,   6433,\n",
       "          9689, 195376,    686,  13833,   4069, 106466,    660,  17269,\n",
       "         17665,  38254,  71536, 154913,  10645, 109084,    586,   6005,\n",
       "          7129, 115828,    586,   9521, 195409,  48192,  46910,  11569,\n",
       "         11129,  90868,  22652, 184953,   7697, 139814,    346,   6285,\n",
       "          5325, 149624,    376,  10565,   8845,   4362,   1462,    721,\n",
       "           337,     42,   4726,    589,      1,     62,      2,    125,\n",
       "             1,     64,      0,      1,      1,     64,      0,      1,\n",
       "             1,     64,      0,      1]))"
      ]
     },
     "execution_count": 19,
     "metadata": {},
     "output_type": "execute_result"
    }
   ],
   "source": [
    "test_wo_rank[0], test_w_rank[0]"
   ]
  },
  {
   "cell_type": "code",
   "execution_count": null,
   "metadata": {},
   "outputs": [],
   "source": [
    "sfle_index = np.random.permutation(784)\n",
    "pix_index = sfle_index[0:features]\n",
    "pix_index.sort()\n",
    "\n",
    "a = X_train.shape\n",
    "b = X_test.shape\n",
    "\n",
    "X_train_rand_feat = np.zeros((a[0],features))\n",
    "X_test_rand_feat = np.zeros((b[0],features))\n",
    "for j in np.arange(a[0]):\n",
    "    for i in np.arange(features):\n",
    "        X_train_rand_feat[j][i] = X_train[j][pix_index[i]]\n",
    "for j in np.arange(b[0]):\n",
    "    for i in np.arange(features):\n",
    "        X_test_rand_feat[j][i] = X_test[j][pix_index[i]]"
   ]
  },
  {
   "cell_type": "code",
   "execution_count": null,
   "metadata": {},
   "outputs": [],
   "source": [
    "data = X_train_split_fe2\n",
    "scaler = StandardScaler()\n",
    "scaler.fit(data)\n",
    "X_scaled_train_split_fe = scaler.transform(data)\n",
    "\n",
    "datatest = X_test_split_fe2\n",
    "scaler = StandardScaler()\n",
    "scaler.fit(datatest)\n",
    "X_scaled_test_split_fe = scaler.transform(datatest)\n"
   ]
  },
  {
   "cell_type": "code",
   "execution_count": null,
   "metadata": {},
   "outputs": [],
   "source": [
    "data = X_train_rand_feat\n",
    "scaler = StandardScaler()\n",
    "scaler.fit(data)\n",
    "X_scaled_train_rand_feat = scaler.transform(data)\n",
    "\n",
    "datatest = X_test_rand_feat\n",
    "scaler = StandardScaler()\n",
    "scaler.fit(datatest)\n",
    "X_scaled_test_rand_feat = scaler.transform(datatest)"
   ]
  },
  {
   "cell_type": "code",
   "execution_count": null,
   "metadata": {},
   "outputs": [],
   "source": [
    "X_test_split_fe3[1], X_scaled_test_split_fe[1]"
   ]
  },
  {
   "cell_type": "code",
   "execution_count": null,
   "metadata": {},
   "outputs": [],
   "source": [
    "n_inputs = features\n",
    "n_hidden1 = int(features / 2)\n",
    "n_hidden2 = int(n_hidden1 / 2)\n",
    "n_outputs = 10"
   ]
  },
  {
   "cell_type": "code",
   "execution_count": null,
   "metadata": {},
   "outputs": [],
   "source": [
    "from tensorflow.contrib.layers import fully_connected\n",
    "\n",
    "tf.reset_default_graph()\n",
    "\n",
    "X = tf.placeholder(tf.float32, shape=(None, n_inputs), name=\"X\")\n",
    "y = tf.placeholder(tf.int64, shape=(None), name=\"y\")\n",
    "\n",
    "with tf.name_scope(\"dnn\"):\n",
    "    hidden1 = fully_connected(X, n_hidden1, scope = \"hidden1\")\n",
    "    hidden2 = fully_connected(hidden1, n_hidden2, scope=\"hidden2\")\n",
    "    logits = fully_connected(hidden2, n_outputs, scope=\"outputs\", activation_fn = None)\n",
    "    \n",
    "with tf.name_scope(\"loss\"):\n",
    "    xentropy = tf.nn.sparse_softmax_cross_entropy_with_logits(\n",
    "    labels=y, logits=logits)\n",
    "    loss = tf.reduce_mean(xentropy, name=\"loss\")\n",
    "\n",
    "learning_rate = 0.01\n",
    "with tf.name_scope(\"train\"):\n",
    "    optimizer = tf.train.GradientDescentOptimizer(learning_rate)\n",
    "    training_op = optimizer.minimize(loss)\n",
    "    \n",
    "with tf.name_scope(\"eval\"):\n",
    "    correct = tf.nn.in_top_k(logits, y, 1)\n",
    "    accuracy = tf.reduce_mean(tf.cast(correct, tf.float32))"
   ]
  },
  {
   "cell_type": "code",
   "execution_count": null,
   "metadata": {},
   "outputs": [],
   "source": [
    "init = tf.global_variables_initializer()\n",
    "saver = tf.train.Saver()\n",
    "\n",
    "\n",
    "n_epochs = 20\n",
    "batch_size = 50\n",
    "\n",
    "with tf.Session() as sess:\n",
    "    init.run()\n",
    "    for epoch in range(n_epochs):\n",
    "        for iteration in range(60000 // batch_size):\n",
    "            shuffle_index = np.random.permutation(60000)\n",
    "            batch_index = shuffle_index[0:batch_size]\n",
    "            X_batch, y_batch = X_scaled_train_split_fe[batch_index], y_train[batch_index]\n",
    "            sess.run(training_op, feed_dict={X: X_batch, y: y_batch})\n",
    "        acc_train = accuracy.eval(feed_dict={X: X_batch, y: y_batch})\n",
    "        acc_test = accuracy.eval(feed_dict={X: X_scaled_test_split_fe,y: y_test})\n",
    "        print(epoch, \"Train accuracy:\", acc_train, \"Test accuracy:\", acc_test)\n",
    "    save_path = saver.save(sess, \"./f2_model_final.ckpt\")"
   ]
  },
  {
   "cell_type": "code",
   "execution_count": null,
   "metadata": {},
   "outputs": [],
   "source": [
    "def simplify(X):\n",
    "    n,m = X.shape\n",
    "    Y = np.zeros((n,m))\n",
    "    for i in range(n):\n",
    "        for j in range(m):\n",
    "            if X[i,j] <= 127:\n",
    "                Y[i,j] = 0\n",
    "            else:\n",
    "                Y[i,j] = 255\n",
    "    return Y"
   ]
  },
  {
   "cell_type": "code",
   "execution_count": null,
   "metadata": {},
   "outputs": [],
   "source": [
    "data = X_train_rand_feat\n",
    "scaler = StandardScaler()\n",
    "scaler.fit(data)\n",
    "X_scaled_train_rand_feat = scaler.transform(data)\n",
    "\n",
    "datatest = X_test_rand_feat\n",
    "scaler = StandardScaler()\n",
    "scaler.fit(datatest)\n",
    "X_scaled_test_rand_feat = scaler.transform(datatest)"
   ]
  },
  {
   "cell_type": "code",
   "execution_count": null,
   "metadata": {},
   "outputs": [],
   "source": [
    "X_scaled_train_rand_feat[0]"
   ]
  },
  {
   "cell_type": "code",
   "execution_count": null,
   "metadata": {},
   "outputs": [],
   "source": [
    "X_train_simp[1], X_test_simp[1]"
   ]
  },
  {
   "cell_type": "code",
   "execution_count": null,
   "metadata": {},
   "outputs": [],
   "source": [
    "some_digit = X_test_rand_feat[1001]\n",
    "some_digit_image = some_digit.reshape(28, 28)\n",
    "plt.imshow(some_digit_image, cmap = matplotlib.cm.binary,\n",
    "interpolation=\"nearest\")\n",
    "plt.axis(\"off\")\n",
    "plt.show()"
   ]
  },
  {
   "cell_type": "code",
   "execution_count": null,
   "metadata": {},
   "outputs": [],
   "source": []
  }
 ],
 "metadata": {
  "kernelspec": {
   "display_name": "Python 3",
   "language": "python",
   "name": "python3"
  },
  "language_info": {
   "codemirror_mode": {
    "name": "ipython",
    "version": 3
   },
   "file_extension": ".py",
   "mimetype": "text/x-python",
   "name": "python",
   "nbconvert_exporter": "python",
   "pygments_lexer": "ipython3",
   "version": "3.6.3"
  }
 },
 "nbformat": 4,
 "nbformat_minor": 2
}
