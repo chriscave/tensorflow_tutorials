{
 "cells": [
  {
   "cell_type": "code",
   "execution_count": 1,
   "metadata": {},
   "outputs": [
    {
     "name": "stderr",
     "output_type": "stream",
     "text": [
      "/home/chris/anaconda3/lib/python3.6/site-packages/h5py/__init__.py:34: FutureWarning: Conversion of the second argument of issubdtype from `float` to `np.floating` is deprecated. In future, it will be treated as `np.float64 == np.dtype(float).type`.\n",
      "  from ._conv import register_converters as _register_converters\n"
     ]
    }
   ],
   "source": [
    "import numpy as np\n",
    "import tensorflow as tf\n",
    "from sklearn.datasets import fetch_california_housing\n",
    "from sklearn import preprocessing\n",
    "\n",
    "housing = fetch_california_housing()\n",
    "m, n = housing.data.shape\n",
    "housing_data_scaled = preprocessing.scale(housing.data)\n",
    "\n",
    "scaled_housing_data_plus_bias = np.c_[np.ones((m, 1)), housing_data_scaled]\n",
    "\n"
   ]
  },
  {
   "cell_type": "code",
   "execution_count": 7,
   "metadata": {},
   "outputs": [
    {
     "name": "stdout",
     "output_type": "stream",
     "text": [
      "Epoch 0 MSE = 5.107318\n",
      "Epoch 100 MSE = 0.7806886\n",
      "Epoch 200 MSE = 0.6353124\n",
      "Epoch 300 MSE = 0.6009633\n",
      "Epoch 400 MSE = 0.57940984\n",
      "Epoch 500 MSE = 0.5640574\n",
      "Epoch 600 MSE = 0.55299425\n",
      "Epoch 700 MSE = 0.54501355\n",
      "Epoch 800 MSE = 0.539255\n",
      "Epoch 900 MSE = 0.5351001\n",
      "Epoch 1000 MSE = 0.5321016\n",
      "Epoch 1100 MSE = 0.5299383\n",
      "Epoch 1200 MSE = 0.5283767\n",
      "Epoch 1300 MSE = 0.5272498\n",
      "Epoch 1400 MSE = 0.5264362\n",
      "Epoch 1500 MSE = 0.5258494\n",
      "Epoch 1600 MSE = 0.5254249\n",
      "Epoch 1700 MSE = 0.5251188\n",
      "Epoch 1800 MSE = 0.5248977\n",
      "Epoch 1900 MSE = 0.5247383\n",
      "Epoch 2000 MSE = 0.5246228\n",
      "Epoch 2100 MSE = 0.52453977\n",
      "Epoch 2200 MSE = 0.5244793\n",
      "Epoch 2300 MSE = 0.5244355\n",
      "Epoch 2400 MSE = 0.52440387\n",
      "Epoch 2500 MSE = 0.52438146\n",
      "Epoch 2600 MSE = 0.52436495\n",
      "Epoch 2700 MSE = 0.52435285\n",
      "Epoch 2800 MSE = 0.5243444\n",
      "Epoch 2900 MSE = 0.524338\n",
      "Epoch 3000 MSE = 0.5243334\n",
      "Epoch 3100 MSE = 0.52433\n",
      "Epoch 3200 MSE = 0.5243277\n",
      "Epoch 3300 MSE = 0.5243258\n",
      "Epoch 3400 MSE = 0.5243246\n",
      "Epoch 3500 MSE = 0.5243233\n",
      "Epoch 3600 MSE = 0.52432287\n",
      "Epoch 3700 MSE = 0.52432257\n",
      "Epoch 3800 MSE = 0.52432173\n",
      "Epoch 3900 MSE = 0.52432173\n",
      "Epoch 4000 MSE = 0.52432144\n",
      "Epoch 4100 MSE = 0.5243216\n",
      "Epoch 4200 MSE = 0.5243215\n",
      "Epoch 4300 MSE = 0.5243208\n",
      "Epoch 4400 MSE = 0.52432144\n",
      "Epoch 4500 MSE = 0.5243214\n",
      "Epoch 4600 MSE = 0.52432114\n",
      "Epoch 4700 MSE = 0.52432126\n",
      "Epoch 4800 MSE = 0.524321\n",
      "Epoch 4900 MSE = 0.52432084\n",
      "[[ 2.0685525 ]\n",
      " [ 0.829734  ]\n",
      " [ 0.11882365]\n",
      " [-0.2656513 ]\n",
      " [ 0.3057578 ]\n",
      " [-0.0044783 ]\n",
      " [-0.03933483]\n",
      " [-0.8992513 ]\n",
      " [-0.86991554]]\n"
     ]
    }
   ],
   "source": [
    "n_epochs = 5000\n",
    "learning_rate = 0.01\n",
    "X = tf.constant(scaled_housing_data_plus_bias, dtype=tf.float32, name=\"X\")\n",
    "y = tf.constant(housing.target.reshape(-1, 1), dtype=tf.float32, name=\"y\")\n",
    "theta = tf.Variable(tf.random_uniform([n + 1, 1], -1.0, 1.0), name=\"theta\")\n",
    "y_pred = tf.matmul(X, theta, name=\"predictions\")\n",
    "error = y_pred - y\n",
    "mse = tf.reduce_mean(tf.square(error), name=\"mse\")\n",
    "optimizer = tf.train.GradientDescentOptimizer(learning_rate=learning_rate)\n",
    "training_op = optimizer.minimize(mse)\n",
    "init = tf.global_variables_initializer()\n",
    "with tf.Session() as sess:\n",
    "    sess.run(init)\n",
    "    for epoch in range(n_epochs):\n",
    "        if epoch % 100 == 0:\n",
    "            print(\"Epoch\", epoch, \"MSE =\", mse.eval())\n",
    "        sess.run(training_op)\n",
    "\n",
    "    best_theta = theta.eval()\n",
    "print(best_theta)"
   ]
  },
  {
   "cell_type": "code",
   "execution_count": null,
   "metadata": {},
   "outputs": [],
   "source": []
  }
 ],
 "metadata": {
  "kernelspec": {
   "display_name": "Python 3",
   "language": "python",
   "name": "python3"
  },
  "language_info": {
   "codemirror_mode": {
    "name": "ipython",
    "version": 3
   },
   "file_extension": ".py",
   "mimetype": "text/x-python",
   "name": "python",
   "nbconvert_exporter": "python",
   "pygments_lexer": "ipython3",
   "version": "3.6.3"
  }
 },
 "nbformat": 4,
 "nbformat_minor": 2
}
